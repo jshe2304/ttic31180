{
 "cells": [
  {
   "cell_type": "code",
   "execution_count": 1,
   "id": "ee31b3f3-caf8-4631-9c92-c415d5993752",
   "metadata": {},
   "outputs": [],
   "source": [
    "import numpy as np\n",
    "import matplotlib.pyplot as plt\n",
    "from IPython import display\n",
    "from ipywidgets import IntProgress\n",
    "\n",
    "from bp import *\n",
    "from lattice import *\n",
    "\n",
    "%load_ext autoreload\n",
    "%autoreload 2"
   ]
  },
  {
   "cell_type": "markdown",
   "id": "98ea930c-86ae-451e-8a1c-195f1712c2e2",
   "metadata": {},
   "source": [
    "# Belief Propagation"
   ]
  },
  {
   "cell_type": "code",
   "execution_count": 2,
   "id": "7a046771-ced1-4015-a834-7975699a9e89",
   "metadata": {
    "tags": []
   },
   "outputs": [],
   "source": [
    "h, w = 100, 100\n",
    "\n",
    "J = 0.5\n",
    "B = -0.001\n",
    "beta = 10\n",
    "\n",
    "n_steps = 500"
   ]
  },
  {
   "cell_type": "code",
   "execution_count": 3,
   "id": "132aea85-f2dd-406f-ab17-a3e5ea4ab82b",
   "metadata": {
    "tags": []
   },
   "outputs": [],
   "source": [
    "unary_potential = beta * B * np.array([-1, 1])\n",
    "pairwise_potential = beta * J * np.outer([-1, 1], [-1, 1])\n",
    "unary_log_messages = np.zeros((h, w, 4, 2)) # U, D, L, R\n",
    "col_pairwise_log_messages = np.zeros((h-1, w, 2, 2)) # U, D\n",
    "row_pairwise_log_messages = np.zeros((h, w-1, 2, 2)) # L, R"
   ]
  },
  {
   "cell_type": "code",
   "execution_count": 4,
   "id": "23f8ae82-a629-4723-bca8-4f457ad1d516",
   "metadata": {
    "tags": []
   },
   "outputs": [],
   "source": [
    "step(h, w, unary_potential, pairwise_potential, unary_log_messages, col_pairwise_log_messages, row_pairwise_log_messages)"
   ]
  },
  {
   "cell_type": "code",
   "execution_count": 5,
   "id": "5d8d39ff-728f-4178-9382-0c5071afd155",
   "metadata": {
    "tags": []
   },
   "outputs": [
    {
     "data": {
      "text/plain": [
       "<matplotlib.image.AxesImage at 0x10f955f00>"
      ]
     },
     "execution_count": 5,
     "metadata": {},
     "output_type": "execute_result"
    },
    {
     "data": {
      "image/png": "[encoded data removed]",
      "text/plain": [
       "<Figure size 640x480 with 1 Axes>"
      ]
     },
     "metadata": {},
     "output_type": "display_data"
    }
   ],
   "source": [
    "beliefs = np.empty((h, w, 2))\n",
    "\n",
    "for i in range(h):\n",
    "    for j in range(w):\n",
    "        prod = unary_potential + np.sum(unary_log_messages[i, j], axis=0)\n",
    "        beliefs[i, j] = np.exp(prod)\n",
    "\n",
    "plt.imshow(beliefs[:, :, 1]/np.sum(beliefs, axis=2), 'binary', vmin=0, vmax=1)"
   ]
  },
  {
   "cell_type": "code",
   "execution_count": 10,
   "id": "a44d5f40-9758-4dd4-be26-4369cb8b05be",
   "metadata": {
    "tags": []
   },
   "outputs": [
    {
     "data": {
      "text/plain": [
       "array([[5.0100454, 4.9900454],\n",
       "       [0.       , 0.       ],\n",
       "       [0.       , 0.       ],\n",
       "       [5.0100454, 4.9900454]])"
      ]
     },
     "execution_count": 10,
     "metadata": {},
     "output_type": "execute_result"
    }
   ],
   "source": [
    "unary_log_messages[-1, -1]"
   ]
  },
  {
   "cell_type": "code",
   "execution_count": null,
   "id": "5cb50eb7-99ea-42b9-b307-a18cca61dd10",
   "metadata": {},
   "outputs": [],
   "source": []
  }
 ],
 "metadata": {
  "kernelspec": {
   "display_name": "Python 3 (ipykernel)",
   "language": "python",
   "name": "python3"
  },
  "language_info": {
   "codemirror_mode": {
    "name": "ipython",
    "version": 3
   },
   "file_extension": ".py",
   "mimetype": "text/x-python",
   "name": "python",
   "nbconvert_exporter": "python",
   "pygments_lexer": "ipython3",
   "version": "3.10.6"
  }
 },
 "nbformat": 4,
 "nbformat_minor": 5
}
