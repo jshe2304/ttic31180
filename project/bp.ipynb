{
 "cells": [
  {
   "cell_type": "code",
   "execution_count": 7,
   "id": "ee31b3f3-caf8-4631-9c92-c415d5993752",
   "metadata": {},
   "outputs": [
    {
     "name": "stdout",
     "output_type": "stream",
     "text": [
      "The autoreload extension is already loaded. To reload it, use:\n",
      "  %reload_ext autoreload\n"
     ]
    }
   ],
   "source": [
    "import numpy as np\n",
    "import matplotlib.pyplot as plt\n",
    "from IPython import display\n",
    "from ipywidgets import IntProgress\n",
    "\n",
    "from code.bp import *\n",
    "from code.lattice import *\n",
    "\n",
    "%load_ext autoreload\n",
    "%autoreload 2"
   ]
  },
  {
   "cell_type": "markdown",
   "id": "98ea930c-86ae-451e-8a1c-195f1712c2e2",
   "metadata": {},
   "source": [
    "# Inference: Belief Propagation"
   ]
  },
  {
   "cell_type": "code",
   "execution_count": 17,
   "id": "7a046771-ced1-4015-a834-7975699a9e89",
   "metadata": {
    "tags": []
   },
   "outputs": [],
   "source": [
    "fprefix = 'bp_gaussian'\n",
    "\n",
    "h, w = 50, 50\n",
    "\n",
    "J = 0.5\n",
    "B = np.zeros((h, w)) #0.01 * gaussian_B(h, w)\n",
    "beta = 0"
   ]
  },
  {
   "cell_type": "code",
   "execution_count": 18,
   "id": "132aea85-f2dd-406f-ab17-a3e5ea4ab82b",
   "metadata": {
    "tags": []
   },
   "outputs": [],
   "source": [
    "unary_potentials = np.exp(beta * np.expand_dims(B, axis=-1) * np.tile(np.array([-1, 1]), (h, w, 1)))\n",
    "pairwise_potential = np.exp(beta * J * np.outer([-1, 1], [-1, 1]))\n",
    "\n",
    "unary_messages = np.ones((h, w, 4, 2)) # U, D, L, R\n",
    "col_pairwise_messages = np.ones((h-1, w, 2, 2)) # U, D\n",
    "row_pairwise_messages = np.ones((h, w-1, 2, 2)) # L, R"
   ]
  },
  {
   "cell_type": "code",
   "execution_count": 19,
   "id": "23f8ae82-a629-4723-bca8-4f457ad1d516",
   "metadata": {
    "tags": []
   },
   "outputs": [
    {
     "name": "stdout",
     "output_type": "stream",
     "text": [
      ".."
     ]
    }
   ],
   "source": [
    "timesteps = [normalize_beliefs(compute_unary_beliefs(h, w, unary_potentials, unary_messages))]\n",
    "\n",
    "delta = 1\n",
    "while delta > 1e-3:\n",
    "    \n",
    "    # Old messages\n",
    "    unary_copy = unary_messages.copy()\n",
    "    col_pairwise_copy = col_pairwise_messages.copy()\n",
    "    row_pairwise_copy = row_pairwise_messages.copy()\n",
    "    \n",
    "    # Step\n",
    "    step(h, w, unary_potentials, pairwise_potential, unary_messages, col_pairwise_messages, row_pairwise_messages)\n",
    "    \n",
    "    # Compute message differences\n",
    "    d_unary = np.max(np.abs(unary_copy - unary_messages))\n",
    "    d_col_pairwise = np.max(np.abs(col_pairwise_copy - col_pairwise_messages))\n",
    "    d_row_pairwise = np.max(np.abs(row_pairwise_copy - row_pairwise_messages))\n",
    "    \n",
    "    delta = max(d_unary, d_col_pairwise, d_row_pairwise)\n",
    "    print('.', end='')\n",
    "    \n",
    "    # Log beliefs\n",
    "    timesteps.append(normalize_beliefs(compute_unary_beliefs(h, w, unary_potentials, unary_messages)))"
   ]
  },
  {
   "cell_type": "code",
   "execution_count": 20,
   "id": "0c68507a-4136-40e1-8261-8df2ba7aa87a",
   "metadata": {
    "tags": []
   },
   "outputs": [
    {
     "data": {
      "text/plain": [
       "<matplotlib.image.AxesImage at 0x1222038b0>"
      ]
     },
     "execution_count": 20,
     "metadata": {},
     "output_type": "execute_result"
    },
    {
     "data": {
      "image/png": "[encoded data removed]",
      "text/plain": [
       "<Figure size 640x480 with 1 Axes>"
      ]
     },
     "metadata": {},
     "output_type": "display_data"
    }
   ],
   "source": [
    "plt.imshow(timesteps[-1], 'binary', vmin=0, vmax=1)"
   ]
  },
  {
   "cell_type": "code",
   "execution_count": 10,
   "id": "172b5979-d3e3-4b21-a172-0b552fb39b50",
   "metadata": {
    "tags": []
   },
   "outputs": [
    {
     "data": {
      "image/png": "[encoded data removed]",
      "text/plain": [
       "<Figure size 640x480 with 1 Axes>"
      ]
     },
     "metadata": {},
     "output_type": "display_data"
    }
   ],
   "source": [
    "render_timesteps(timesteps, 16, 32, 'graphics/' + fprefix + '.mp4')"
   ]
  },
  {
   "cell_type": "code",
   "execution_count": null,
   "id": "b5ccd1f1-7a9d-42e0-8263-eff9d5cd1130",
   "metadata": {},
   "outputs": [],
   "source": []
  }
 ],
 "metadata": {
  "kernelspec": {
   "display_name": "Python 3 (ipykernel)",
   "language": "python",
   "name": "python3"
  },
  "language_info": {
   "codemirror_mode": {
    "name": "ipython",
    "version": 3
   },
   "file_extension": ".py",
   "mimetype": "text/x-python",
   "name": "python",
   "nbconvert_exporter": "python",
   "pygments_lexer": "ipython3",
   "version": "3.10.6"
  }
 },
 "nbformat": 4,
 "nbformat_minor": 5
}
